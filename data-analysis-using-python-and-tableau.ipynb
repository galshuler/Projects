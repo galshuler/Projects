{
 "cells": [
  {
   "cell_type": "markdown",
   "id": "33652db5",
   "metadata": {
    "papermill": {
     "duration": 0.008821,
     "end_time": "2024-01-24T16:28:35.145154",
     "exception": false,
     "start_time": "2024-01-24T16:28:35.136333",
     "status": "completed"
    },
    "tags": []
   },
   "source": [
    "# Overview of the Dataset\n",
    "This analysis is centered around the 'London Bike Sharing Dataset' sourced from three distinct platforms: TfL's cycling data, freemeteo.com for weather data, and the UK government's bank holiday information. Spanning from January 1, 2015, to December 31, 2016, the dataset integrates various elements such as time stamps, bike share counts, weather conditions, and temporal factors like holidays and weekends. It provides a comprehensive view of bike-sharing patterns in London, under different meteorological and temporal conditions.\n",
    "\n",
    "# Objective\n",
    "The primary goal of this analysis is to predict future bike share trends in London. By delving into historical data, the project aims to uncover underlying patterns and correlations that influence bike sharing habits. This insight could be instrumental for urban planners, bike-sharing companies, and policy makers in optimizing and promoting sustainable urban transportation.\n",
    "\n",
    "# Methodology\n",
    "The methodology employed in this analysis is rigorous and multi-faceted:\n",
    "\n",
    "## Data Cleaning: \n",
    "Initial steps involved handling duplicates and missing values to ensure data integrity.\n",
    "## Data Transformation: \n",
    "Key transformations included normalizing humidity values and renaming columns for better clarity. Additionally, categorical data like weather conditions and seasons were mapped to meaningful labels.\n",
    "## Exploratory Data Analysis (EDA): \n",
    "The EDA phase focused on understanding variable distributions, unique value counts.\n",
    "\n",
    "# Key Insights and Findings\n",
    "Several significant trends and patterns emerged from the analysis:\n",
    "There's a noticeable fluctuation in bike shares relative to weather conditions and seasons, indicating a strong correlation between meteorological factors and biking habits.\n",
    "Weekdays and weekends show distinct biking patterns, possibly influenced by commuting routines and leisure activities.\n",
    "The absence of significant outliers in the dataset suggests a consistent and reliable recording of bike sharing data.\n",
    "\n",
    "# Visualizations\n",
    "The project leverages  Tableau for visualizations:\n",
    "Advanced visualizations in Tableau offered a more dynamic and interactive representation of bike-sharing trends over time and across different conditions.\n",
    "While predictive modeling wasn't the focus of this initial analysis, it's identified as a key area for future exploration."
   ]
  },
  {
   "cell_type": "markdown",
   "id": "b6e6404d",
   "metadata": {
    "papermill": {
     "duration": 0.007979,
     "end_time": "2024-01-24T16:28:35.161412",
     "exception": false,
     "start_time": "2024-01-24T16:28:35.153433",
     "status": "completed"
    },
    "tags": []
   },
   "source": [
    "# Code"
   ]
  },
  {
   "cell_type": "markdown",
   "id": "dfe2e19f",
   "metadata": {
    "execution": {
     "iopub.execute_input": "2024-01-15T09:14:25.282963Z",
     "iopub.status.busy": "2024-01-15T09:14:25.282382Z",
     "iopub.status.idle": "2024-01-15T09:14:25.288773Z",
     "shell.execute_reply": "2024-01-15T09:14:25.287195Z",
     "shell.execute_reply.started": "2024-01-15T09:14:25.282928Z"
    },
    "papermill": {
     "duration": 0.007578,
     "end_time": "2024-01-24T16:28:35.177116",
     "exception": false,
     "start_time": "2024-01-24T16:28:35.169538",
     "status": "completed"
    },
    "tags": []
   },
   "source": [
    "# Data analysis with python (Pandas)"
   ]
  },
  {
   "cell_type": "markdown",
   "id": "0dfdd640",
   "metadata": {
    "papermill": {
     "duration": 0.007556,
     "end_time": "2024-01-24T16:28:35.192532",
     "exception": false,
     "start_time": "2024-01-24T16:28:35.184976",
     "status": "completed"
    },
    "tags": []
   },
   "source": [
    "## Initial Setup and Data Loading"
   ]
  },
  {
   "cell_type": "code",
   "execution_count": 1,
   "id": "79db8281",
   "metadata": {
    "execution": {
     "iopub.execute_input": "2024-01-24T16:28:35.210801Z",
     "iopub.status.busy": "2024-01-24T16:28:35.210247Z",
     "iopub.status.idle": "2024-01-24T16:28:35.715040Z",
     "shell.execute_reply": "2024-01-24T16:28:35.713472Z"
    },
    "papermill": {
     "duration": 0.516989,
     "end_time": "2024-01-24T16:28:35.717506",
     "exception": false,
     "start_time": "2024-01-24T16:28:35.200517",
     "status": "completed"
    },
    "tags": []
   },
   "outputs": [
    {
     "name": "stdout",
     "output_type": "stream",
     "text": [
      "/kaggle/input/london_merged.csv\n"
     ]
    }
   ],
   "source": [
    "# import the pandas library\n",
    "import pandas as pd # data processing, CSV file I/O (e.g. pd.read_csv)\n",
    "\n",
    "# Input data files are available in the read-only \"../input/\" directory\n",
    "\n",
    "import os\n",
    "for dirname, _, filenames in os.walk('/kaggle/input'):\n",
    "    for filename in filenames:\n",
    "        print(os.path.join(dirname, filename))\n"
   ]
  },
  {
   "cell_type": "code",
   "execution_count": 2,
   "id": "4c35137e",
   "metadata": {
    "execution": {
     "iopub.execute_input": "2024-01-24T16:28:35.736595Z",
     "iopub.status.busy": "2024-01-24T16:28:35.735499Z",
     "iopub.status.idle": "2024-01-24T16:28:35.837441Z",
     "shell.execute_reply": "2024-01-24T16:28:35.836335Z"
    },
    "papermill": {
     "duration": 0.114479,
     "end_time": "2024-01-24T16:28:35.840273",
     "exception": false,
     "start_time": "2024-01-24T16:28:35.725794",
     "status": "completed"
    },
    "tags": []
   },
   "outputs": [
    {
     "data": {
      "text/html": [
       "<div>\n",
       "<style scoped>\n",
       "    .dataframe tbody tr th:only-of-type {\n",
       "        vertical-align: middle;\n",
       "    }\n",
       "\n",
       "    .dataframe tbody tr th {\n",
       "        vertical-align: top;\n",
       "    }\n",
       "\n",
       "    .dataframe thead th {\n",
       "        text-align: right;\n",
       "    }\n",
       "</style>\n",
       "<table border=\"1\" class=\"dataframe\">\n",
       "  <thead>\n",
       "    <tr style=\"text-align: right;\">\n",
       "      <th></th>\n",
       "      <th>timestamp</th>\n",
       "      <th>cnt</th>\n",
       "      <th>t1</th>\n",
       "      <th>t2</th>\n",
       "      <th>hum</th>\n",
       "      <th>wind_speed</th>\n",
       "      <th>weather_code</th>\n",
       "      <th>is_holiday</th>\n",
       "      <th>is_weekend</th>\n",
       "      <th>season</th>\n",
       "    </tr>\n",
       "  </thead>\n",
       "  <tbody>\n",
       "    <tr>\n",
       "      <th>0</th>\n",
       "      <td>2015-01-04 00:00:00</td>\n",
       "      <td>182</td>\n",
       "      <td>3.0</td>\n",
       "      <td>2.0</td>\n",
       "      <td>93.0</td>\n",
       "      <td>6.0</td>\n",
       "      <td>3.0</td>\n",
       "      <td>0.0</td>\n",
       "      <td>1.0</td>\n",
       "      <td>3.0</td>\n",
       "    </tr>\n",
       "    <tr>\n",
       "      <th>1</th>\n",
       "      <td>2015-01-04 01:00:00</td>\n",
       "      <td>138</td>\n",
       "      <td>3.0</td>\n",
       "      <td>2.5</td>\n",
       "      <td>93.0</td>\n",
       "      <td>5.0</td>\n",
       "      <td>1.0</td>\n",
       "      <td>0.0</td>\n",
       "      <td>1.0</td>\n",
       "      <td>3.0</td>\n",
       "    </tr>\n",
       "    <tr>\n",
       "      <th>2</th>\n",
       "      <td>2015-01-04 02:00:00</td>\n",
       "      <td>134</td>\n",
       "      <td>2.5</td>\n",
       "      <td>2.5</td>\n",
       "      <td>96.5</td>\n",
       "      <td>0.0</td>\n",
       "      <td>1.0</td>\n",
       "      <td>0.0</td>\n",
       "      <td>1.0</td>\n",
       "      <td>3.0</td>\n",
       "    </tr>\n",
       "    <tr>\n",
       "      <th>3</th>\n",
       "      <td>2015-01-04 03:00:00</td>\n",
       "      <td>72</td>\n",
       "      <td>2.0</td>\n",
       "      <td>2.0</td>\n",
       "      <td>100.0</td>\n",
       "      <td>0.0</td>\n",
       "      <td>1.0</td>\n",
       "      <td>0.0</td>\n",
       "      <td>1.0</td>\n",
       "      <td>3.0</td>\n",
       "    </tr>\n",
       "    <tr>\n",
       "      <th>4</th>\n",
       "      <td>2015-01-04 04:00:00</td>\n",
       "      <td>47</td>\n",
       "      <td>2.0</td>\n",
       "      <td>0.0</td>\n",
       "      <td>93.0</td>\n",
       "      <td>6.5</td>\n",
       "      <td>1.0</td>\n",
       "      <td>0.0</td>\n",
       "      <td>1.0</td>\n",
       "      <td>3.0</td>\n",
       "    </tr>\n",
       "    <tr>\n",
       "      <th>...</th>\n",
       "      <td>...</td>\n",
       "      <td>...</td>\n",
       "      <td>...</td>\n",
       "      <td>...</td>\n",
       "      <td>...</td>\n",
       "      <td>...</td>\n",
       "      <td>...</td>\n",
       "      <td>...</td>\n",
       "      <td>...</td>\n",
       "      <td>...</td>\n",
       "    </tr>\n",
       "    <tr>\n",
       "      <th>17409</th>\n",
       "      <td>2017-01-03 19:00:00</td>\n",
       "      <td>1042</td>\n",
       "      <td>5.0</td>\n",
       "      <td>1.0</td>\n",
       "      <td>81.0</td>\n",
       "      <td>19.0</td>\n",
       "      <td>3.0</td>\n",
       "      <td>0.0</td>\n",
       "      <td>0.0</td>\n",
       "      <td>3.0</td>\n",
       "    </tr>\n",
       "    <tr>\n",
       "      <th>17410</th>\n",
       "      <td>2017-01-03 20:00:00</td>\n",
       "      <td>541</td>\n",
       "      <td>5.0</td>\n",
       "      <td>1.0</td>\n",
       "      <td>81.0</td>\n",
       "      <td>21.0</td>\n",
       "      <td>4.0</td>\n",
       "      <td>0.0</td>\n",
       "      <td>0.0</td>\n",
       "      <td>3.0</td>\n",
       "    </tr>\n",
       "    <tr>\n",
       "      <th>17411</th>\n",
       "      <td>2017-01-03 21:00:00</td>\n",
       "      <td>337</td>\n",
       "      <td>5.5</td>\n",
       "      <td>1.5</td>\n",
       "      <td>78.5</td>\n",
       "      <td>24.0</td>\n",
       "      <td>4.0</td>\n",
       "      <td>0.0</td>\n",
       "      <td>0.0</td>\n",
       "      <td>3.0</td>\n",
       "    </tr>\n",
       "    <tr>\n",
       "      <th>17412</th>\n",
       "      <td>2017-01-03 22:00:00</td>\n",
       "      <td>224</td>\n",
       "      <td>5.5</td>\n",
       "      <td>1.5</td>\n",
       "      <td>76.0</td>\n",
       "      <td>23.0</td>\n",
       "      <td>4.0</td>\n",
       "      <td>0.0</td>\n",
       "      <td>0.0</td>\n",
       "      <td>3.0</td>\n",
       "    </tr>\n",
       "    <tr>\n",
       "      <th>17413</th>\n",
       "      <td>2017-01-03 23:00:00</td>\n",
       "      <td>139</td>\n",
       "      <td>5.0</td>\n",
       "      <td>1.0</td>\n",
       "      <td>76.0</td>\n",
       "      <td>22.0</td>\n",
       "      <td>2.0</td>\n",
       "      <td>0.0</td>\n",
       "      <td>0.0</td>\n",
       "      <td>3.0</td>\n",
       "    </tr>\n",
       "  </tbody>\n",
       "</table>\n",
       "<p>17414 rows × 10 columns</p>\n",
       "</div>"
      ],
      "text/plain": [
       "                 timestamp   cnt   t1   t2    hum  wind_speed  weather_code  \\\n",
       "0      2015-01-04 00:00:00   182  3.0  2.0   93.0         6.0           3.0   \n",
       "1      2015-01-04 01:00:00   138  3.0  2.5   93.0         5.0           1.0   \n",
       "2      2015-01-04 02:00:00   134  2.5  2.5   96.5         0.0           1.0   \n",
       "3      2015-01-04 03:00:00    72  2.0  2.0  100.0         0.0           1.0   \n",
       "4      2015-01-04 04:00:00    47  2.0  0.0   93.0         6.5           1.0   \n",
       "...                    ...   ...  ...  ...    ...         ...           ...   \n",
       "17409  2017-01-03 19:00:00  1042  5.0  1.0   81.0        19.0           3.0   \n",
       "17410  2017-01-03 20:00:00   541  5.0  1.0   81.0        21.0           4.0   \n",
       "17411  2017-01-03 21:00:00   337  5.5  1.5   78.5        24.0           4.0   \n",
       "17412  2017-01-03 22:00:00   224  5.5  1.5   76.0        23.0           4.0   \n",
       "17413  2017-01-03 23:00:00   139  5.0  1.0   76.0        22.0           2.0   \n",
       "\n",
       "       is_holiday  is_weekend  season  \n",
       "0             0.0         1.0     3.0  \n",
       "1             0.0         1.0     3.0  \n",
       "2             0.0         1.0     3.0  \n",
       "3             0.0         1.0     3.0  \n",
       "4             0.0         1.0     3.0  \n",
       "...           ...         ...     ...  \n",
       "17409         0.0         0.0     3.0  \n",
       "17410         0.0         0.0     3.0  \n",
       "17411         0.0         0.0     3.0  \n",
       "17412         0.0         0.0     3.0  \n",
       "17413         0.0         0.0     3.0  \n",
       "\n",
       "[17414 rows x 10 columns]"
      ]
     },
     "execution_count": 2,
     "metadata": {},
     "output_type": "execute_result"
    }
   ],
   "source": [
    "# read the csv file as a pandas dataframe\n",
    "bikes = pd.read_csv(\"/kaggle/input/london_merged.csv\")\n",
    "bikes"
   ]
  },
  {
   "cell_type": "markdown",
   "id": "e017741c",
   "metadata": {
    "papermill": {
     "duration": 0.008255,
     "end_time": "2024-01-24T16:28:35.857032",
     "exception": false,
     "start_time": "2024-01-24T16:28:35.848777",
     "status": "completed"
    },
    "tags": []
   },
   "source": [
    "## Data Exploration"
   ]
  },
  {
   "cell_type": "code",
   "execution_count": 3,
   "id": "882fb852",
   "metadata": {
    "execution": {
     "iopub.execute_input": "2024-01-24T16:28:35.876373Z",
     "iopub.status.busy": "2024-01-24T16:28:35.875410Z",
     "iopub.status.idle": "2024-01-24T16:28:35.908661Z",
     "shell.execute_reply": "2024-01-24T16:28:35.907825Z"
    },
    "papermill": {
     "duration": 0.045929,
     "end_time": "2024-01-24T16:28:35.911276",
     "exception": false,
     "start_time": "2024-01-24T16:28:35.865347",
     "status": "completed"
    },
    "tags": []
   },
   "outputs": [
    {
     "name": "stdout",
     "output_type": "stream",
     "text": [
      "<class 'pandas.core.frame.DataFrame'>\n",
      "RangeIndex: 17414 entries, 0 to 17413\n",
      "Data columns (total 10 columns):\n",
      " #   Column        Non-Null Count  Dtype  \n",
      "---  ------        --------------  -----  \n",
      " 0   timestamp     17414 non-null  object \n",
      " 1   cnt           17414 non-null  int64  \n",
      " 2   t1            17414 non-null  float64\n",
      " 3   t2            17414 non-null  float64\n",
      " 4   hum           17414 non-null  float64\n",
      " 5   wind_speed    17414 non-null  float64\n",
      " 6   weather_code  17414 non-null  float64\n",
      " 7   is_holiday    17414 non-null  float64\n",
      " 8   is_weekend    17414 non-null  float64\n",
      " 9   season        17414 non-null  float64\n",
      "dtypes: float64(8), int64(1), object(1)\n",
      "memory usage: 1.3+ MB\n"
     ]
    }
   ],
   "source": [
    "bikes.info()"
   ]
  },
  {
   "cell_type": "code",
   "execution_count": 4,
   "id": "46575317",
   "metadata": {
    "execution": {
     "iopub.execute_input": "2024-01-24T16:28:35.931119Z",
     "iopub.status.busy": "2024-01-24T16:28:35.930609Z",
     "iopub.status.idle": "2024-01-24T16:28:35.938534Z",
     "shell.execute_reply": "2024-01-24T16:28:35.937359Z"
    },
    "papermill": {
     "duration": 0.020671,
     "end_time": "2024-01-24T16:28:35.940845",
     "exception": false,
     "start_time": "2024-01-24T16:28:35.920174",
     "status": "completed"
    },
    "tags": []
   },
   "outputs": [
    {
     "data": {
      "text/plain": [
       "(17414, 10)"
      ]
     },
     "execution_count": 4,
     "metadata": {},
     "output_type": "execute_result"
    }
   ],
   "source": [
    "bikes.shape"
   ]
  },
  {
   "cell_type": "markdown",
   "id": "bbdcafd5",
   "metadata": {
    "papermill": {
     "duration": 0.010227,
     "end_time": "2024-01-24T16:28:35.960175",
     "exception": false,
     "start_time": "2024-01-24T16:28:35.949948",
     "status": "completed"
    },
    "tags": []
   },
   "source": [
    "## Data Cleaning"
   ]
  },
  {
   "cell_type": "code",
   "execution_count": 5,
   "id": "bb681219",
   "metadata": {
    "execution": {
     "iopub.execute_input": "2024-01-24T16:28:35.980837Z",
     "iopub.status.busy": "2024-01-24T16:28:35.980374Z",
     "iopub.status.idle": "2024-01-24T16:28:35.998201Z",
     "shell.execute_reply": "2024-01-24T16:28:35.996942Z"
    },
    "papermill": {
     "duration": 0.03212,
     "end_time": "2024-01-24T16:28:36.001286",
     "exception": false,
     "start_time": "2024-01-24T16:28:35.969166",
     "status": "completed"
    },
    "tags": []
   },
   "outputs": [],
   "source": [
    "# drop duplicates values\n",
    "bikes.drop_duplicates(inplace = True)"
   ]
  },
  {
   "cell_type": "code",
   "execution_count": 6,
   "id": "1cdd4d32",
   "metadata": {
    "execution": {
     "iopub.execute_input": "2024-01-24T16:28:36.021668Z",
     "iopub.status.busy": "2024-01-24T16:28:36.021173Z",
     "iopub.status.idle": "2024-01-24T16:28:36.031864Z",
     "shell.execute_reply": "2024-01-24T16:28:36.030776Z"
    },
    "papermill": {
     "duration": 0.024386,
     "end_time": "2024-01-24T16:28:36.034790",
     "exception": false,
     "start_time": "2024-01-24T16:28:36.010404",
     "status": "completed"
    },
    "tags": []
   },
   "outputs": [],
   "source": [
    "# drop duplicates values\n",
    "bikes.dropna(inplace = True)"
   ]
  },
  {
   "cell_type": "code",
   "execution_count": 7,
   "id": "b35f0141",
   "metadata": {
    "execution": {
     "iopub.execute_input": "2024-01-24T16:28:36.055669Z",
     "iopub.status.busy": "2024-01-24T16:28:36.055175Z",
     "iopub.status.idle": "2024-01-24T16:28:36.084349Z",
     "shell.execute_reply": "2024-01-24T16:28:36.083253Z"
    },
    "papermill": {
     "duration": 0.042629,
     "end_time": "2024-01-24T16:28:36.087046",
     "exception": false,
     "start_time": "2024-01-24T16:28:36.044417",
     "status": "completed"
    },
    "tags": []
   },
   "outputs": [
    {
     "data": {
      "text/html": [
       "<div>\n",
       "<style scoped>\n",
       "    .dataframe tbody tr th:only-of-type {\n",
       "        vertical-align: middle;\n",
       "    }\n",
       "\n",
       "    .dataframe tbody tr th {\n",
       "        vertical-align: top;\n",
       "    }\n",
       "\n",
       "    .dataframe thead th {\n",
       "        text-align: right;\n",
       "    }\n",
       "</style>\n",
       "<table border=\"1\" class=\"dataframe\">\n",
       "  <thead>\n",
       "    <tr style=\"text-align: right;\">\n",
       "      <th></th>\n",
       "      <th>timestamp</th>\n",
       "      <th>cnt</th>\n",
       "      <th>t1</th>\n",
       "      <th>t2</th>\n",
       "      <th>hum</th>\n",
       "      <th>wind_speed</th>\n",
       "      <th>weather_code</th>\n",
       "      <th>is_holiday</th>\n",
       "      <th>is_weekend</th>\n",
       "      <th>season</th>\n",
       "    </tr>\n",
       "  </thead>\n",
       "  <tbody>\n",
       "    <tr>\n",
       "      <th>0</th>\n",
       "      <td>2015-01-04 00:00:00</td>\n",
       "      <td>182</td>\n",
       "      <td>3.0</td>\n",
       "      <td>2.0</td>\n",
       "      <td>93.0</td>\n",
       "      <td>6.0</td>\n",
       "      <td>3.0</td>\n",
       "      <td>0.0</td>\n",
       "      <td>1.0</td>\n",
       "      <td>3.0</td>\n",
       "    </tr>\n",
       "    <tr>\n",
       "      <th>1</th>\n",
       "      <td>2015-01-04 01:00:00</td>\n",
       "      <td>138</td>\n",
       "      <td>3.0</td>\n",
       "      <td>2.5</td>\n",
       "      <td>93.0</td>\n",
       "      <td>5.0</td>\n",
       "      <td>1.0</td>\n",
       "      <td>0.0</td>\n",
       "      <td>1.0</td>\n",
       "      <td>3.0</td>\n",
       "    </tr>\n",
       "    <tr>\n",
       "      <th>2</th>\n",
       "      <td>2015-01-04 02:00:00</td>\n",
       "      <td>134</td>\n",
       "      <td>2.5</td>\n",
       "      <td>2.5</td>\n",
       "      <td>96.5</td>\n",
       "      <td>0.0</td>\n",
       "      <td>1.0</td>\n",
       "      <td>0.0</td>\n",
       "      <td>1.0</td>\n",
       "      <td>3.0</td>\n",
       "    </tr>\n",
       "    <tr>\n",
       "      <th>3</th>\n",
       "      <td>2015-01-04 03:00:00</td>\n",
       "      <td>72</td>\n",
       "      <td>2.0</td>\n",
       "      <td>2.0</td>\n",
       "      <td>100.0</td>\n",
       "      <td>0.0</td>\n",
       "      <td>1.0</td>\n",
       "      <td>0.0</td>\n",
       "      <td>1.0</td>\n",
       "      <td>3.0</td>\n",
       "    </tr>\n",
       "    <tr>\n",
       "      <th>4</th>\n",
       "      <td>2015-01-04 04:00:00</td>\n",
       "      <td>47</td>\n",
       "      <td>2.0</td>\n",
       "      <td>0.0</td>\n",
       "      <td>93.0</td>\n",
       "      <td>6.5</td>\n",
       "      <td>1.0</td>\n",
       "      <td>0.0</td>\n",
       "      <td>1.0</td>\n",
       "      <td>3.0</td>\n",
       "    </tr>\n",
       "    <tr>\n",
       "      <th>...</th>\n",
       "      <td>...</td>\n",
       "      <td>...</td>\n",
       "      <td>...</td>\n",
       "      <td>...</td>\n",
       "      <td>...</td>\n",
       "      <td>...</td>\n",
       "      <td>...</td>\n",
       "      <td>...</td>\n",
       "      <td>...</td>\n",
       "      <td>...</td>\n",
       "    </tr>\n",
       "    <tr>\n",
       "      <th>17409</th>\n",
       "      <td>2017-01-03 19:00:00</td>\n",
       "      <td>1042</td>\n",
       "      <td>5.0</td>\n",
       "      <td>1.0</td>\n",
       "      <td>81.0</td>\n",
       "      <td>19.0</td>\n",
       "      <td>3.0</td>\n",
       "      <td>0.0</td>\n",
       "      <td>0.0</td>\n",
       "      <td>3.0</td>\n",
       "    </tr>\n",
       "    <tr>\n",
       "      <th>17410</th>\n",
       "      <td>2017-01-03 20:00:00</td>\n",
       "      <td>541</td>\n",
       "      <td>5.0</td>\n",
       "      <td>1.0</td>\n",
       "      <td>81.0</td>\n",
       "      <td>21.0</td>\n",
       "      <td>4.0</td>\n",
       "      <td>0.0</td>\n",
       "      <td>0.0</td>\n",
       "      <td>3.0</td>\n",
       "    </tr>\n",
       "    <tr>\n",
       "      <th>17411</th>\n",
       "      <td>2017-01-03 21:00:00</td>\n",
       "      <td>337</td>\n",
       "      <td>5.5</td>\n",
       "      <td>1.5</td>\n",
       "      <td>78.5</td>\n",
       "      <td>24.0</td>\n",
       "      <td>4.0</td>\n",
       "      <td>0.0</td>\n",
       "      <td>0.0</td>\n",
       "      <td>3.0</td>\n",
       "    </tr>\n",
       "    <tr>\n",
       "      <th>17412</th>\n",
       "      <td>2017-01-03 22:00:00</td>\n",
       "      <td>224</td>\n",
       "      <td>5.5</td>\n",
       "      <td>1.5</td>\n",
       "      <td>76.0</td>\n",
       "      <td>23.0</td>\n",
       "      <td>4.0</td>\n",
       "      <td>0.0</td>\n",
       "      <td>0.0</td>\n",
       "      <td>3.0</td>\n",
       "    </tr>\n",
       "    <tr>\n",
       "      <th>17413</th>\n",
       "      <td>2017-01-03 23:00:00</td>\n",
       "      <td>139</td>\n",
       "      <td>5.0</td>\n",
       "      <td>1.0</td>\n",
       "      <td>76.0</td>\n",
       "      <td>22.0</td>\n",
       "      <td>2.0</td>\n",
       "      <td>0.0</td>\n",
       "      <td>0.0</td>\n",
       "      <td>3.0</td>\n",
       "    </tr>\n",
       "  </tbody>\n",
       "</table>\n",
       "<p>17414 rows × 10 columns</p>\n",
       "</div>"
      ],
      "text/plain": [
       "                 timestamp   cnt   t1   t2    hum  wind_speed  weather_code  \\\n",
       "0      2015-01-04 00:00:00   182  3.0  2.0   93.0         6.0           3.0   \n",
       "1      2015-01-04 01:00:00   138  3.0  2.5   93.0         5.0           1.0   \n",
       "2      2015-01-04 02:00:00   134  2.5  2.5   96.5         0.0           1.0   \n",
       "3      2015-01-04 03:00:00    72  2.0  2.0  100.0         0.0           1.0   \n",
       "4      2015-01-04 04:00:00    47  2.0  0.0   93.0         6.5           1.0   \n",
       "...                    ...   ...  ...  ...    ...         ...           ...   \n",
       "17409  2017-01-03 19:00:00  1042  5.0  1.0   81.0        19.0           3.0   \n",
       "17410  2017-01-03 20:00:00   541  5.0  1.0   81.0        21.0           4.0   \n",
       "17411  2017-01-03 21:00:00   337  5.5  1.5   78.5        24.0           4.0   \n",
       "17412  2017-01-03 22:00:00   224  5.5  1.5   76.0        23.0           4.0   \n",
       "17413  2017-01-03 23:00:00   139  5.0  1.0   76.0        22.0           2.0   \n",
       "\n",
       "       is_holiday  is_weekend  season  \n",
       "0             0.0         1.0     3.0  \n",
       "1             0.0         1.0     3.0  \n",
       "2             0.0         1.0     3.0  \n",
       "3             0.0         1.0     3.0  \n",
       "4             0.0         1.0     3.0  \n",
       "...           ...         ...     ...  \n",
       "17409         0.0         0.0     3.0  \n",
       "17410         0.0         0.0     3.0  \n",
       "17411         0.0         0.0     3.0  \n",
       "17412         0.0         0.0     3.0  \n",
       "17413         0.0         0.0     3.0  \n",
       "\n",
       "[17414 rows x 10 columns]"
      ]
     },
     "execution_count": 7,
     "metadata": {},
     "output_type": "execute_result"
    }
   ],
   "source": [
    "# There is no duplicates or null values\n",
    "bikes"
   ]
  },
  {
   "cell_type": "code",
   "execution_count": 8,
   "id": "8b39ab8b",
   "metadata": {
    "execution": {
     "iopub.execute_input": "2024-01-24T16:28:36.107506Z",
     "iopub.status.busy": "2024-01-24T16:28:36.107068Z",
     "iopub.status.idle": "2024-01-24T16:28:36.118007Z",
     "shell.execute_reply": "2024-01-24T16:28:36.116478Z"
    },
    "papermill": {
     "duration": 0.024311,
     "end_time": "2024-01-24T16:28:36.120662",
     "exception": false,
     "start_time": "2024-01-24T16:28:36.096351",
     "status": "completed"
    },
    "tags": []
   },
   "outputs": [
    {
     "data": {
      "text/plain": [
       "weather_code\n",
       "1.0     6150\n",
       "2.0     4034\n",
       "3.0     3551\n",
       "7.0     2141\n",
       "4.0     1464\n",
       "26.0      60\n",
       "10.0      14\n",
       "Name: count, dtype: int64"
      ]
     },
     "execution_count": 8,
     "metadata": {},
     "output_type": "execute_result"
    }
   ],
   "source": [
    "# count the unique values in the weather_code column\n",
    "bikes.weather_code.value_counts()"
   ]
  },
  {
   "cell_type": "code",
   "execution_count": 9,
   "id": "7310671f",
   "metadata": {
    "execution": {
     "iopub.execute_input": "2024-01-24T16:28:36.141635Z",
     "iopub.status.busy": "2024-01-24T16:28:36.141212Z",
     "iopub.status.idle": "2024-01-24T16:28:36.150889Z",
     "shell.execute_reply": "2024-01-24T16:28:36.149765Z"
    },
    "papermill": {
     "duration": 0.022945,
     "end_time": "2024-01-24T16:28:36.153401",
     "exception": false,
     "start_time": "2024-01-24T16:28:36.130456",
     "status": "completed"
    },
    "tags": []
   },
   "outputs": [
    {
     "data": {
      "text/plain": [
       "season\n",
       "0.0    4394\n",
       "1.0    4387\n",
       "3.0    4330\n",
       "2.0    4303\n",
       "Name: count, dtype: int64"
      ]
     },
     "execution_count": 9,
     "metadata": {},
     "output_type": "execute_result"
    }
   ],
   "source": [
    "# count the unique values in the season column\n",
    "bikes.season.value_counts()"
   ]
  },
  {
   "cell_type": "code",
   "execution_count": 10,
   "id": "9fe548e9",
   "metadata": {
    "execution": {
     "iopub.execute_input": "2024-01-24T16:28:36.174468Z",
     "iopub.status.busy": "2024-01-24T16:28:36.174089Z",
     "iopub.status.idle": "2024-01-24T16:28:36.180122Z",
     "shell.execute_reply": "2024-01-24T16:28:36.178948Z"
    },
    "papermill": {
     "duration": 0.019486,
     "end_time": "2024-01-24T16:28:36.182397",
     "exception": false,
     "start_time": "2024-01-24T16:28:36.162911",
     "status": "completed"
    },
    "tags": []
   },
   "outputs": [],
   "source": [
    "# changing the humidity values to percentage (i.e. a value between 0 and 1)\n",
    "bikes.hum = bikes.hum / 100"
   ]
  },
  {
   "cell_type": "markdown",
   "id": "0de26569",
   "metadata": {
    "papermill": {
     "duration": 0.008944,
     "end_time": "2024-01-24T16:28:36.201362",
     "exception": false,
     "start_time": "2024-01-24T16:28:36.192418",
     "status": "completed"
    },
    "tags": []
   },
   "source": [
    "## Data Transformation"
   ]
  },
  {
   "cell_type": "code",
   "execution_count": 11,
   "id": "89526a33",
   "metadata": {
    "execution": {
     "iopub.execute_input": "2024-01-24T16:28:36.222139Z",
     "iopub.status.busy": "2024-01-24T16:28:36.221707Z",
     "iopub.status.idle": "2024-01-24T16:28:36.229416Z",
     "shell.execute_reply": "2024-01-24T16:28:36.227948Z"
    },
    "papermill": {
     "duration": 0.021274,
     "end_time": "2024-01-24T16:28:36.231917",
     "exception": false,
     "start_time": "2024-01-24T16:28:36.210643",
     "status": "completed"
    },
    "tags": []
   },
   "outputs": [],
   "source": [
    "# Renameing column names to make them more informative\n",
    "new_cols_dict ={\n",
    "    'timestamp':'time',\n",
    "    'cnt':'count_bike_share', \n",
    "    't1':'temp_C',\n",
    "    't2':'temp_feels_like_C',\n",
    "    'hum':'humidity',\n",
    "    'wind_speed':'wind_speed_kph',\n",
    "    'weather_code':'weather_category',\n",
    "    'is_holiday':'is_holiday',\n",
    "    'is_weekend':'is_weekend',\n",
    "    'season':'season'\n",
    "}\n",
    "\n",
    "# Renaming the columns to the specified column names\n",
    "bikes.rename(new_cols_dict, axis=1, inplace=True)"
   ]
  },
  {
   "cell_type": "code",
   "execution_count": 12,
   "id": "fc8919f6",
   "metadata": {
    "execution": {
     "iopub.execute_input": "2024-01-24T16:28:36.252878Z",
     "iopub.status.busy": "2024-01-24T16:28:36.252439Z",
     "iopub.status.idle": "2024-01-24T16:28:36.265637Z",
     "shell.execute_reply": "2024-01-24T16:28:36.264591Z"
    },
    "papermill": {
     "duration": 0.02668,
     "end_time": "2024-01-24T16:28:36.268158",
     "exception": false,
     "start_time": "2024-01-24T16:28:36.241478",
     "status": "completed"
    },
    "tags": []
   },
   "outputs": [],
   "source": [
    "# creating a season dictionary so that we can map the integers 0-3 to the actual written values\n",
    "season_dict = {\n",
    "    0.0:'spring',\n",
    "    1.0:'summer',\n",
    "    2.0:'autumn',\n",
    "    3.0:'winter'\n",
    "}\n",
    "\n",
    "# creating a weather dictionary so that we can map the integers to the actual written values\n",
    "weather_category_dict = {\n",
    "    1.0:'Clear',\n",
    "    2.0:'Scattered clouds',\n",
    "    3.0:'Broken clouds',\n",
    "    4.0:'Cloudy',\n",
    "    7.0:'Rain',\n",
    "    10.0:'Rain with thunderstorm',\n",
    "    26.0:'Snowfall'\n",
    "}\n",
    "\n",
    "\n",
    "# mapping the values 0-3 to the seasons\n",
    "bikes.season = bikes.season.map(season_dict)\n",
    "\n",
    "# mapping the values to weather category\n",
    "bikes.weather_category = bikes.weather_category.map(weather_category_dict)"
   ]
  },
  {
   "cell_type": "code",
   "execution_count": 13,
   "id": "903542de",
   "metadata": {
    "execution": {
     "iopub.execute_input": "2024-01-24T16:28:36.289251Z",
     "iopub.status.busy": "2024-01-24T16:28:36.288853Z",
     "iopub.status.idle": "2024-01-24T16:28:36.308679Z",
     "shell.execute_reply": "2024-01-24T16:28:36.307776Z"
    },
    "papermill": {
     "duration": 0.033249,
     "end_time": "2024-01-24T16:28:36.310966",
     "exception": false,
     "start_time": "2024-01-24T16:28:36.277717",
     "status": "completed"
    },
    "tags": []
   },
   "outputs": [
    {
     "data": {
      "text/html": [
       "<div>\n",
       "<style scoped>\n",
       "    .dataframe tbody tr th:only-of-type {\n",
       "        vertical-align: middle;\n",
       "    }\n",
       "\n",
       "    .dataframe tbody tr th {\n",
       "        vertical-align: top;\n",
       "    }\n",
       "\n",
       "    .dataframe thead th {\n",
       "        text-align: right;\n",
       "    }\n",
       "</style>\n",
       "<table border=\"1\" class=\"dataframe\">\n",
       "  <thead>\n",
       "    <tr style=\"text-align: right;\">\n",
       "      <th></th>\n",
       "      <th>time</th>\n",
       "      <th>count_bike_share</th>\n",
       "      <th>temp_C</th>\n",
       "      <th>temp_feels_like_C</th>\n",
       "      <th>humidity</th>\n",
       "      <th>wind_speed_kph</th>\n",
       "      <th>weather_category</th>\n",
       "      <th>is_holiday</th>\n",
       "      <th>is_weekend</th>\n",
       "      <th>season</th>\n",
       "    </tr>\n",
       "  </thead>\n",
       "  <tbody>\n",
       "    <tr>\n",
       "      <th>0</th>\n",
       "      <td>2015-01-04 00:00:00</td>\n",
       "      <td>182</td>\n",
       "      <td>3.0</td>\n",
       "      <td>2.0</td>\n",
       "      <td>0.930</td>\n",
       "      <td>6.0</td>\n",
       "      <td>Broken clouds</td>\n",
       "      <td>0.0</td>\n",
       "      <td>1.0</td>\n",
       "      <td>winter</td>\n",
       "    </tr>\n",
       "    <tr>\n",
       "      <th>1</th>\n",
       "      <td>2015-01-04 01:00:00</td>\n",
       "      <td>138</td>\n",
       "      <td>3.0</td>\n",
       "      <td>2.5</td>\n",
       "      <td>0.930</td>\n",
       "      <td>5.0</td>\n",
       "      <td>Clear</td>\n",
       "      <td>0.0</td>\n",
       "      <td>1.0</td>\n",
       "      <td>winter</td>\n",
       "    </tr>\n",
       "    <tr>\n",
       "      <th>2</th>\n",
       "      <td>2015-01-04 02:00:00</td>\n",
       "      <td>134</td>\n",
       "      <td>2.5</td>\n",
       "      <td>2.5</td>\n",
       "      <td>0.965</td>\n",
       "      <td>0.0</td>\n",
       "      <td>Clear</td>\n",
       "      <td>0.0</td>\n",
       "      <td>1.0</td>\n",
       "      <td>winter</td>\n",
       "    </tr>\n",
       "    <tr>\n",
       "      <th>3</th>\n",
       "      <td>2015-01-04 03:00:00</td>\n",
       "      <td>72</td>\n",
       "      <td>2.0</td>\n",
       "      <td>2.0</td>\n",
       "      <td>1.000</td>\n",
       "      <td>0.0</td>\n",
       "      <td>Clear</td>\n",
       "      <td>0.0</td>\n",
       "      <td>1.0</td>\n",
       "      <td>winter</td>\n",
       "    </tr>\n",
       "    <tr>\n",
       "      <th>4</th>\n",
       "      <td>2015-01-04 04:00:00</td>\n",
       "      <td>47</td>\n",
       "      <td>2.0</td>\n",
       "      <td>0.0</td>\n",
       "      <td>0.930</td>\n",
       "      <td>6.5</td>\n",
       "      <td>Clear</td>\n",
       "      <td>0.0</td>\n",
       "      <td>1.0</td>\n",
       "      <td>winter</td>\n",
       "    </tr>\n",
       "  </tbody>\n",
       "</table>\n",
       "</div>"
      ],
      "text/plain": [
       "                  time  count_bike_share  temp_C  temp_feels_like_C  humidity  \\\n",
       "0  2015-01-04 00:00:00               182     3.0                2.0     0.930   \n",
       "1  2015-01-04 01:00:00               138     3.0                2.5     0.930   \n",
       "2  2015-01-04 02:00:00               134     2.5                2.5     0.965   \n",
       "3  2015-01-04 03:00:00                72     2.0                2.0     1.000   \n",
       "4  2015-01-04 04:00:00                47     2.0                0.0     0.930   \n",
       "\n",
       "   wind_speed_kph weather_category  is_holiday  is_weekend  season  \n",
       "0             6.0    Broken clouds         0.0         1.0  winter  \n",
       "1             5.0            Clear         0.0         1.0  winter  \n",
       "2             0.0            Clear         0.0         1.0  winter  \n",
       "3             0.0            Clear         0.0         1.0  winter  \n",
       "4             6.5            Clear         0.0         1.0  winter  "
      ]
     },
     "execution_count": 13,
     "metadata": {},
     "output_type": "execute_result"
    }
   ],
   "source": [
    "# checking our dataframe to see if the mappings have worked\n",
    "bikes.head()"
   ]
  },
  {
   "cell_type": "markdown",
   "id": "3793a52a",
   "metadata": {
    "papermill": {
     "duration": 0.009407,
     "end_time": "2024-01-24T16:28:36.330229",
     "exception": false,
     "start_time": "2024-01-24T16:28:36.320822",
     "status": "completed"
    },
    "tags": []
   },
   "source": [
    "## Data Export"
   ]
  },
  {
   "cell_type": "code",
   "execution_count": 14,
   "id": "09910a8d",
   "metadata": {
    "execution": {
     "iopub.execute_input": "2024-01-24T16:28:36.351361Z",
     "iopub.status.busy": "2024-01-24T16:28:36.350962Z",
     "iopub.status.idle": "2024-01-24T16:28:44.601426Z",
     "shell.execute_reply": "2024-01-24T16:28:44.600420Z"
    },
    "papermill": {
     "duration": 8.264626,
     "end_time": "2024-01-24T16:28:44.604500",
     "exception": false,
     "start_time": "2024-01-24T16:28:36.339874",
     "status": "completed"
    },
    "tags": []
   },
   "outputs": [],
   "source": [
    "# writing the final dataframe to an excel file that we will use in our Tableau visualisations. The file will be the 'london_bikes_modified.xlsx' file and the sheet name is 'bike_data'\n",
    "bikes.to_excel('london_bikes_modified.xlsx', sheet_name='bike_data')"
   ]
  },
  {
   "cell_type": "markdown",
   "id": "cde94af4",
   "metadata": {
    "papermill": {
     "duration": 0.00983,
     "end_time": "2024-01-24T16:28:44.624505",
     "exception": false,
     "start_time": "2024-01-24T16:28:44.614675",
     "status": "completed"
    },
    "tags": []
   },
   "source": [
    "#  Link to tableau public dashbord"
   ]
  },
  {
   "cell_type": "markdown",
   "id": "b0d02579",
   "metadata": {
    "papermill": {
     "duration": 0.009917,
     "end_time": "2024-01-24T16:28:44.644298",
     "exception": false,
     "start_time": "2024-01-24T16:28:44.634381",
     "status": "completed"
    },
    "tags": []
   },
   "source": [
    "https://public.tableau.com/views/LondonBikes_17052555645380/LondonBikeRides?:language=en-US&:display_count=n&:origin=viz_share_link"
   ]
  },
  {
   "cell_type": "markdown",
   "id": "7e971a5b",
   "metadata": {
    "papermill": {
     "duration": 0.009612,
     "end_time": "2024-01-24T16:28:44.664432",
     "exception": false,
     "start_time": "2024-01-24T16:28:44.654820",
     "status": "completed"
    },
    "tags": []
   },
   "source": [
    "# Conclusion:\n",
    "The analysis sheds light on the dynamic nature of bike-sharing in London, influenced by an array of factors like weather, time, and holidays. These insights underscore the potential of data-driven approaches in urban mobility planning. Future work could include predictive modeling to forecast bike share demands, further analysis of external factors like public events, and a comparative study across different cities or time frames to generalize the findings."
   ]
  }
 ],
 "metadata": {
  "kaggle": {
   "accelerator": "none",
   "dataSources": [
    {
     "datasetId": 376751,
     "sourceId": 731448,
     "sourceType": "datasetVersion"
    }
   ],
   "dockerImageVersionId": 30635,
   "isGpuEnabled": false,
   "isInternetEnabled": true,
   "language": "python",
   "sourceType": "notebook"
  },
  "kernelspec": {
   "display_name": "Python 3",
   "language": "python",
   "name": "python3"
  },
  "language_info": {
   "codemirror_mode": {
    "name": "ipython",
    "version": 3
   },
   "file_extension": ".py",
   "mimetype": "text/x-python",
   "name": "python",
   "nbconvert_exporter": "python",
   "pygments_lexer": "ipython3",
   "version": "3.10.12"
  },
  "papermill": {
   "default_parameters": {},
   "duration": 14.087098,
   "end_time": "2024-01-24T16:28:45.498142",
   "environment_variables": {},
   "exception": null,
   "input_path": "__notebook__.ipynb",
   "output_path": "__notebook__.ipynb",
   "parameters": {},
   "start_time": "2024-01-24T16:28:31.411044",
   "version": "2.4.0"
  }
 },
 "nbformat": 4,
 "nbformat_minor": 5
}
