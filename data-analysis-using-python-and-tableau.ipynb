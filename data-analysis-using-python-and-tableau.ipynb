{
 "cells": [
  {
   "cell_type": "markdown",
   "id": "3faef843",
   "metadata": {
    "papermill": {
     "duration": 0.008328,
     "end_time": "2024-01-15T09:57:12.224550",
     "exception": false,
     "start_time": "2024-01-15T09:57:12.216222",
     "status": "completed"
    },
    "tags": []
   },
   "source": [
    "# Overview of the Dataset\n",
    "This analysis is centered around the 'London Bike Sharing Dataset' sourced from three distinct platforms: TfL's cycling data, freemeteo.com for weather data, and the UK government's bank holiday information. Spanning from January 1, 2015, to December 31, 2016, the dataset integrates various elements such as time stamps, bike share counts, weather conditions, and temporal factors like holidays and weekends. It provides a comprehensive view of bike-sharing patterns in London, under different meteorological and temporal conditions.\n",
    "\n",
    "# Objective\n",
    "The primary goal of this analysis is to predict future bike share trends in London. By delving into historical data, the project aims to uncover underlying patterns and correlations that influence bike sharing habits. This insight could be instrumental for urban planners, bike-sharing companies, and policy makers in optimizing and promoting sustainable urban transportation.\n",
    "\n",
    "# Methodology\n",
    "The methodology employed in this analysis is rigorous and multi-faceted:\n",
    "\n",
    "## Data Cleaning: \n",
    "Initial steps involved handling duplicates and missing values to ensure data integrity.\n",
    "## Data Transformation: \n",
    "Key transformations included normalizing humidity values and renaming columns for better clarity. Additionally, categorical data like weather conditions and seasons were mapped to meaningful labels.\n",
    "## Exploratory Data Analysis (EDA): \n",
    "The EDA phase focused on understanding variable distributions, unique value counts.\n",
    "\n",
    "# Key Insights and Findings\n",
    "Several significant trends and patterns emerged from the analysis:\n",
    "There's a noticeable fluctuation in bike shares relative to weather conditions and seasons, indicating a strong correlation between meteorological factors and biking habits.\n",
    "Weekdays and weekends show distinct biking patterns, possibly influenced by commuting routines and leisure activities.\n",
    "The absence of significant outliers in the dataset suggests a consistent and reliable recording of bike sharing data.\n",
    "\n",
    "# Visualizations\n",
    "The project leverages  Tableau for visualizations:\n",
    "Advanced visualizations in Tableau offered a more dynamic and interactive representation of bike-sharing trends over time and across different conditions.\n",
    "While predictive modeling wasn't the focus of this initial analysis, it's identified as a key area for future exploration.\n",
    "## Link to tableau public dashbord\n",
    "https://public.tableau.com/views/LondonBikes_17052555645380/LondonBikeRides?:language=en-US&:display_count=n&:origin=viz_share_link"
   ]
  },
  {
   "cell_type": "markdown",
   "id": "d7425966",
   "metadata": {
    "papermill": {
     "duration": 0.007467,
     "end_time": "2024-01-15T09:57:12.239945",
     "exception": false,
     "start_time": "2024-01-15T09:57:12.232478",
     "status": "completed"
    },
    "tags": []
   },
   "source": [
    "# Code"
   ]
  },
  {
   "cell_type": "markdown",
   "id": "9eea39d1",
   "metadata": {
    "execution": {
     "iopub.execute_input": "2024-01-15T09:14:25.282963Z",
     "iopub.status.busy": "2024-01-15T09:14:25.282382Z",
     "iopub.status.idle": "2024-01-15T09:14:25.288773Z",
     "shell.execute_reply": "2024-01-15T09:14:25.287195Z",
     "shell.execute_reply.started": "2024-01-15T09:14:25.282928Z"
    },
    "papermill": {
     "duration": 0.007283,
     "end_time": "2024-01-15T09:57:12.254960",
     "exception": false,
     "start_time": "2024-01-15T09:57:12.247677",
     "status": "completed"
    },
    "tags": []
   },
   "source": [
    "# Data analysis with python (Pandas)"
   ]
  },
  {
   "cell_type": "markdown",
   "id": "9c382c0f",
   "metadata": {
    "papermill": {
     "duration": 0.007416,
     "end_time": "2024-01-15T09:57:12.270022",
     "exception": false,
     "start_time": "2024-01-15T09:57:12.262606",
     "status": "completed"
    },
    "tags": []
   },
   "source": [
    "## Initial Setup and Data Loading"
   ]
  },
  {
   "cell_type": "code",
   "execution_count": 1,
   "id": "940358d5",
   "metadata": {
    "execution": {
     "iopub.execute_input": "2024-01-15T09:57:12.288066Z",
     "iopub.status.busy": "2024-01-15T09:57:12.287615Z",
     "iopub.status.idle": "2024-01-15T09:57:12.717063Z",
     "shell.execute_reply": "2024-01-15T09:57:12.715975Z"
    },
    "papermill": {
     "duration": 0.441956,
     "end_time": "2024-01-15T09:57:12.719772",
     "exception": false,
     "start_time": "2024-01-15T09:57:12.277816",
     "status": "completed"
    },
    "tags": []
   },
   "outputs": [
    {
     "name": "stdout",
     "output_type": "stream",
     "text": [
      "/kaggle/input/london_merged.csv\n"
     ]
    }
   ],
   "source": [
    "# import the pandas library\n",
    "import pandas as pd # data processing, CSV file I/O (e.g. pd.read_csv)\n",
    "\n",
    "# Input data files are available in the read-only \"../input/\" directory\n",
    "\n",
    "import os\n",
    "for dirname, _, filenames in os.walk('/kaggle/input'):\n",
    "    for filename in filenames:\n",
    "        print(os.path.join(dirname, filename))\n"
   ]
  },
  {
   "cell_type": "code",
   "execution_count": 2,
   "id": "10785168",
   "metadata": {
    "execution": {
     "iopub.execute_input": "2024-01-15T09:57:12.737687Z",
     "iopub.status.busy": "2024-01-15T09:57:12.737153Z",
     "iopub.status.idle": "2024-01-15T09:57:12.827546Z",
     "shell.execute_reply": "2024-01-15T09:57:12.826696Z"
    },
    "papermill": {
     "duration": 0.102188,
     "end_time": "2024-01-15T09:57:12.830006",
     "exception": false,
     "start_time": "2024-01-15T09:57:12.727818",
     "status": "completed"
    },
    "tags": []
   },
   "outputs": [
    {
     "data": {
      "text/html": [
       "<div>\n",
       "<style scoped>\n",
       "    .dataframe tbody tr th:only-of-type {\n",
       "        vertical-align: middle;\n",
       "    }\n",
       "\n",
       "    .dataframe tbody tr th {\n",
       "        vertical-align: top;\n",
       "    }\n",
       "\n",
       "    .dataframe thead th {\n",
       "        text-align: right;\n",
       "    }\n",
       "</style>\n",
       "<table border=\"1\" class=\"dataframe\">\n",
       "  <thead>\n",
       "    <tr style=\"text-align: right;\">\n",
       "      <th></th>\n",
       "      <th>timestamp</th>\n",
       "      <th>cnt</th>\n",
       "      <th>t1</th>\n",
       "      <th>t2</th>\n",
       "      <th>hum</th>\n",
       "      <th>wind_speed</th>\n",
       "      <th>weather_code</th>\n",
       "      <th>is_holiday</th>\n",
       "      <th>is_weekend</th>\n",
       "      <th>season</th>\n",
       "    </tr>\n",
       "  </thead>\n",
       "  <tbody>\n",
       "    <tr>\n",
       "      <th>0</th>\n",
       "      <td>2015-01-04 00:00:00</td>\n",
       "      <td>182</td>\n",
       "      <td>3.0</td>\n",
       "      <td>2.0</td>\n",
       "      <td>93.0</td>\n",
       "      <td>6.0</td>\n",
       "      <td>3.0</td>\n",
       "      <td>0.0</td>\n",
       "      <td>1.0</td>\n",
       "      <td>3.0</td>\n",
       "    </tr>\n",
       "    <tr>\n",
       "      <th>1</th>\n",
       "      <td>2015-01-04 01:00:00</td>\n",
       "      <td>138</td>\n",
       "      <td>3.0</td>\n",
       "      <td>2.5</td>\n",
       "      <td>93.0</td>\n",
       "      <td>5.0</td>\n",
       "      <td>1.0</td>\n",
       "      <td>0.0</td>\n",
       "      <td>1.0</td>\n",
       "      <td>3.0</td>\n",
       "    </tr>\n",
       "    <tr>\n",
       "      <th>2</th>\n",
       "      <td>2015-01-04 02:00:00</td>\n",
       "      <td>134</td>\n",
       "      <td>2.5</td>\n",
       "      <td>2.5</td>\n",
       "      <td>96.5</td>\n",
       "      <td>0.0</td>\n",
       "      <td>1.0</td>\n",
       "      <td>0.0</td>\n",
       "      <td>1.0</td>\n",
       "      <td>3.0</td>\n",
       "    </tr>\n",
       "    <tr>\n",
       "      <th>3</th>\n",
       "      <td>2015-01-04 03:00:00</td>\n",
       "      <td>72</td>\n",
       "      <td>2.0</td>\n",
       "      <td>2.0</td>\n",
       "      <td>100.0</td>\n",
       "      <td>0.0</td>\n",
       "      <td>1.0</td>\n",
       "      <td>0.0</td>\n",
       "      <td>1.0</td>\n",
       "      <td>3.0</td>\n",
       "    </tr>\n",
       "    <tr>\n",
       "      <th>4</th>\n",
       "      <td>2015-01-04 04:00:00</td>\n",
       "      <td>47</td>\n",
       "      <td>2.0</td>\n",
       "      <td>0.0</td>\n",
       "      <td>93.0</td>\n",
       "      <td>6.5</td>\n",
       "      <td>1.0</td>\n",
       "      <td>0.0</td>\n",
       "      <td>1.0</td>\n",
       "      <td>3.0</td>\n",
       "    </tr>\n",
       "    <tr>\n",
       "      <th>...</th>\n",
       "      <td>...</td>\n",
       "      <td>...</td>\n",
       "      <td>...</td>\n",
       "      <td>...</td>\n",
       "      <td>...</td>\n",
       "      <td>...</td>\n",
       "      <td>...</td>\n",
       "      <td>...</td>\n",
       "      <td>...</td>\n",
       "      <td>...</td>\n",
       "    </tr>\n",
       "    <tr>\n",
       "      <th>17409</th>\n",
       "      <td>2017-01-03 19:00:00</td>\n",
       "      <td>1042</td>\n",
       "      <td>5.0</td>\n",
       "      <td>1.0</td>\n",
       "      <td>81.0</td>\n",
       "      <td>19.0</td>\n",
       "      <td>3.0</td>\n",
       "      <td>0.0</td>\n",
       "      <td>0.0</td>\n",
       "      <td>3.0</td>\n",
       "    </tr>\n",
       "    <tr>\n",
       "      <th>17410</th>\n",
       "      <td>2017-01-03 20:00:00</td>\n",
       "      <td>541</td>\n",
       "      <td>5.0</td>\n",
       "      <td>1.0</td>\n",
       "      <td>81.0</td>\n",
       "      <td>21.0</td>\n",
       "      <td>4.0</td>\n",
       "      <td>0.0</td>\n",
       "      <td>0.0</td>\n",
       "      <td>3.0</td>\n",
       "    </tr>\n",
       "    <tr>\n",
       "      <th>17411</th>\n",
       "      <td>2017-01-03 21:00:00</td>\n",
       "      <td>337</td>\n",
       "      <td>5.5</td>\n",
       "      <td>1.5</td>\n",
       "      <td>78.5</td>\n",
       "      <td>24.0</td>\n",
       "      <td>4.0</td>\n",
       "      <td>0.0</td>\n",
       "      <td>0.0</td>\n",
       "      <td>3.0</td>\n",
       "    </tr>\n",
       "    <tr>\n",
       "      <th>17412</th>\n",
       "      <td>2017-01-03 22:00:00</td>\n",
       "      <td>224</td>\n",
       "      <td>5.5</td>\n",
       "      <td>1.5</td>\n",
       "      <td>76.0</td>\n",
       "      <td>23.0</td>\n",
       "      <td>4.0</td>\n",
       "      <td>0.0</td>\n",
       "      <td>0.0</td>\n",
       "      <td>3.0</td>\n",
       "    </tr>\n",
       "    <tr>\n",
       "      <th>17413</th>\n",
       "      <td>2017-01-03 23:00:00</td>\n",
       "      <td>139</td>\n",
       "      <td>5.0</td>\n",
       "      <td>1.0</td>\n",
       "      <td>76.0</td>\n",
       "      <td>22.0</td>\n",
       "      <td>2.0</td>\n",
       "      <td>0.0</td>\n",
       "      <td>0.0</td>\n",
       "      <td>3.0</td>\n",
       "    </tr>\n",
       "  </tbody>\n",
       "</table>\n",
       "<p>17414 rows × 10 columns</p>\n",
       "</div>"
      ],
      "text/plain": [
       "                 timestamp   cnt   t1   t2    hum  wind_speed  weather_code  \\\n",
       "0      2015-01-04 00:00:00   182  3.0  2.0   93.0         6.0           3.0   \n",
       "1      2015-01-04 01:00:00   138  3.0  2.5   93.0         5.0           1.0   \n",
       "2      2015-01-04 02:00:00   134  2.5  2.5   96.5         0.0           1.0   \n",
       "3      2015-01-04 03:00:00    72  2.0  2.0  100.0         0.0           1.0   \n",
       "4      2015-01-04 04:00:00    47  2.0  0.0   93.0         6.5           1.0   \n",
       "...                    ...   ...  ...  ...    ...         ...           ...   \n",
       "17409  2017-01-03 19:00:00  1042  5.0  1.0   81.0        19.0           3.0   \n",
       "17410  2017-01-03 20:00:00   541  5.0  1.0   81.0        21.0           4.0   \n",
       "17411  2017-01-03 21:00:00   337  5.5  1.5   78.5        24.0           4.0   \n",
       "17412  2017-01-03 22:00:00   224  5.5  1.5   76.0        23.0           4.0   \n",
       "17413  2017-01-03 23:00:00   139  5.0  1.0   76.0        22.0           2.0   \n",
       "\n",
       "       is_holiday  is_weekend  season  \n",
       "0             0.0         1.0     3.0  \n",
       "1             0.0         1.0     3.0  \n",
       "2             0.0         1.0     3.0  \n",
       "3             0.0         1.0     3.0  \n",
       "4             0.0         1.0     3.0  \n",
       "...           ...         ...     ...  \n",
       "17409         0.0         0.0     3.0  \n",
       "17410         0.0         0.0     3.0  \n",
       "17411         0.0         0.0     3.0  \n",
       "17412         0.0         0.0     3.0  \n",
       "17413         0.0         0.0     3.0  \n",
       "\n",
       "[17414 rows x 10 columns]"
      ]
     },
     "execution_count": 2,
     "metadata": {},
     "output_type": "execute_result"
    }
   ],
   "source": [
    "# read the csv file as a pandas dataframe\n",
    "bikes = pd.read_csv(\"/kaggle/input/london_merged.csv\")\n",
    "bikes"
   ]
  },
  {
   "cell_type": "markdown",
   "id": "d338945a",
   "metadata": {
    "papermill": {
     "duration": 0.008198,
     "end_time": "2024-01-15T09:57:12.846717",
     "exception": false,
     "start_time": "2024-01-15T09:57:12.838519",
     "status": "completed"
    },
    "tags": []
   },
   "source": [
    "## Data Exploration"
   ]
  },
  {
   "cell_type": "code",
   "execution_count": 3,
   "id": "84e53c74",
   "metadata": {
    "execution": {
     "iopub.execute_input": "2024-01-15T09:57:12.865775Z",
     "iopub.status.busy": "2024-01-15T09:57:12.864785Z",
     "iopub.status.idle": "2024-01-15T09:57:12.897088Z",
     "shell.execute_reply": "2024-01-15T09:57:12.895534Z"
    },
    "papermill": {
     "duration": 0.044562,
     "end_time": "2024-01-15T09:57:12.899641",
     "exception": false,
     "start_time": "2024-01-15T09:57:12.855079",
     "status": "completed"
    },
    "tags": []
   },
   "outputs": [
    {
     "name": "stdout",
     "output_type": "stream",
     "text": [
      "<class 'pandas.core.frame.DataFrame'>\n",
      "RangeIndex: 17414 entries, 0 to 17413\n",
      "Data columns (total 10 columns):\n",
      " #   Column        Non-Null Count  Dtype  \n",
      "---  ------        --------------  -----  \n",
      " 0   timestamp     17414 non-null  object \n",
      " 1   cnt           17414 non-null  int64  \n",
      " 2   t1            17414 non-null  float64\n",
      " 3   t2            17414 non-null  float64\n",
      " 4   hum           17414 non-null  float64\n",
      " 5   wind_speed    17414 non-null  float64\n",
      " 6   weather_code  17414 non-null  float64\n",
      " 7   is_holiday    17414 non-null  float64\n",
      " 8   is_weekend    17414 non-null  float64\n",
      " 9   season        17414 non-null  float64\n",
      "dtypes: float64(8), int64(1), object(1)\n",
      "memory usage: 1.3+ MB\n"
     ]
    }
   ],
   "source": [
    "bikes.info()"
   ]
  },
  {
   "cell_type": "code",
   "execution_count": 4,
   "id": "f72711ae",
   "metadata": {
    "execution": {
     "iopub.execute_input": "2024-01-15T09:57:12.919258Z",
     "iopub.status.busy": "2024-01-15T09:57:12.918665Z",
     "iopub.status.idle": "2024-01-15T09:57:12.924120Z",
     "shell.execute_reply": "2024-01-15T09:57:12.923225Z"
    },
    "papermill": {
     "duration": 0.017664,
     "end_time": "2024-01-15T09:57:12.926264",
     "exception": false,
     "start_time": "2024-01-15T09:57:12.908600",
     "status": "completed"
    },
    "tags": []
   },
   "outputs": [
    {
     "data": {
      "text/plain": [
       "(17414, 10)"
      ]
     },
     "execution_count": 4,
     "metadata": {},
     "output_type": "execute_result"
    }
   ],
   "source": [
    "bikes.shape"
   ]
  },
  {
   "cell_type": "markdown",
   "id": "0fbfbe74",
   "metadata": {
    "papermill": {
     "duration": 0.008336,
     "end_time": "2024-01-15T09:57:12.943157",
     "exception": false,
     "start_time": "2024-01-15T09:57:12.934821",
     "status": "completed"
    },
    "tags": []
   },
   "source": [
    "## Data Cleaning"
   ]
  },
  {
   "cell_type": "code",
   "execution_count": 5,
   "id": "429efac4",
   "metadata": {
    "execution": {
     "iopub.execute_input": "2024-01-15T09:57:12.962411Z",
     "iopub.status.busy": "2024-01-15T09:57:12.961803Z",
     "iopub.status.idle": "2024-01-15T09:57:12.978370Z",
     "shell.execute_reply": "2024-01-15T09:57:12.977387Z"
    },
    "papermill": {
     "duration": 0.02938,
     "end_time": "2024-01-15T09:57:12.981045",
     "exception": false,
     "start_time": "2024-01-15T09:57:12.951665",
     "status": "completed"
    },
    "tags": []
   },
   "outputs": [],
   "source": [
    "# drop duplicates values\n",
    "bikes.drop_duplicates(inplace = True)"
   ]
  },
  {
   "cell_type": "code",
   "execution_count": 6,
   "id": "747fe708",
   "metadata": {
    "execution": {
     "iopub.execute_input": "2024-01-15T09:57:13.000861Z",
     "iopub.status.busy": "2024-01-15T09:57:13.000135Z",
     "iopub.status.idle": "2024-01-15T09:57:13.008499Z",
     "shell.execute_reply": "2024-01-15T09:57:13.007492Z"
    },
    "papermill": {
     "duration": 0.021076,
     "end_time": "2024-01-15T09:57:13.010883",
     "exception": false,
     "start_time": "2024-01-15T09:57:12.989807",
     "status": "completed"
    },
    "tags": []
   },
   "outputs": [],
   "source": [
    "# drop duplicates values\n",
    "bikes.dropna(inplace = True)"
   ]
  },
  {
   "cell_type": "code",
   "execution_count": 7,
   "id": "dad549b8",
   "metadata": {
    "execution": {
     "iopub.execute_input": "2024-01-15T09:57:13.030310Z",
     "iopub.status.busy": "2024-01-15T09:57:13.029903Z",
     "iopub.status.idle": "2024-01-15T09:57:13.056266Z",
     "shell.execute_reply": "2024-01-15T09:57:13.055171Z"
    },
    "papermill": {
     "duration": 0.038715,
     "end_time": "2024-01-15T09:57:13.058640",
     "exception": false,
     "start_time": "2024-01-15T09:57:13.019925",
     "status": "completed"
    },
    "tags": []
   },
   "outputs": [
    {
     "data": {
      "text/html": [
       "<div>\n",
       "<style scoped>\n",
       "    .dataframe tbody tr th:only-of-type {\n",
       "        vertical-align: middle;\n",
       "    }\n",
       "\n",
       "    .dataframe tbody tr th {\n",
       "        vertical-align: top;\n",
       "    }\n",
       "\n",
       "    .dataframe thead th {\n",
       "        text-align: right;\n",
       "    }\n",
       "</style>\n",
       "<table border=\"1\" class=\"dataframe\">\n",
       "  <thead>\n",
       "    <tr style=\"text-align: right;\">\n",
       "      <th></th>\n",
       "      <th>timestamp</th>\n",
       "      <th>cnt</th>\n",
       "      <th>t1</th>\n",
       "      <th>t2</th>\n",
       "      <th>hum</th>\n",
       "      <th>wind_speed</th>\n",
       "      <th>weather_code</th>\n",
       "      <th>is_holiday</th>\n",
       "      <th>is_weekend</th>\n",
       "      <th>season</th>\n",
       "    </tr>\n",
       "  </thead>\n",
       "  <tbody>\n",
       "    <tr>\n",
       "      <th>0</th>\n",
       "      <td>2015-01-04 00:00:00</td>\n",
       "      <td>182</td>\n",
       "      <td>3.0</td>\n",
       "      <td>2.0</td>\n",
       "      <td>93.0</td>\n",
       "      <td>6.0</td>\n",
       "      <td>3.0</td>\n",
       "      <td>0.0</td>\n",
       "      <td>1.0</td>\n",
       "      <td>3.0</td>\n",
       "    </tr>\n",
       "    <tr>\n",
       "      <th>1</th>\n",
       "      <td>2015-01-04 01:00:00</td>\n",
       "      <td>138</td>\n",
       "      <td>3.0</td>\n",
       "      <td>2.5</td>\n",
       "      <td>93.0</td>\n",
       "      <td>5.0</td>\n",
       "      <td>1.0</td>\n",
       "      <td>0.0</td>\n",
       "      <td>1.0</td>\n",
       "      <td>3.0</td>\n",
       "    </tr>\n",
       "    <tr>\n",
       "      <th>2</th>\n",
       "      <td>2015-01-04 02:00:00</td>\n",
       "      <td>134</td>\n",
       "      <td>2.5</td>\n",
       "      <td>2.5</td>\n",
       "      <td>96.5</td>\n",
       "      <td>0.0</td>\n",
       "      <td>1.0</td>\n",
       "      <td>0.0</td>\n",
       "      <td>1.0</td>\n",
       "      <td>3.0</td>\n",
       "    </tr>\n",
       "    <tr>\n",
       "      <th>3</th>\n",
       "      <td>2015-01-04 03:00:00</td>\n",
       "      <td>72</td>\n",
       "      <td>2.0</td>\n",
       "      <td>2.0</td>\n",
       "      <td>100.0</td>\n",
       "      <td>0.0</td>\n",
       "      <td>1.0</td>\n",
       "      <td>0.0</td>\n",
       "      <td>1.0</td>\n",
       "      <td>3.0</td>\n",
       "    </tr>\n",
       "    <tr>\n",
       "      <th>4</th>\n",
       "      <td>2015-01-04 04:00:00</td>\n",
       "      <td>47</td>\n",
       "      <td>2.0</td>\n",
       "      <td>0.0</td>\n",
       "      <td>93.0</td>\n",
       "      <td>6.5</td>\n",
       "      <td>1.0</td>\n",
       "      <td>0.0</td>\n",
       "      <td>1.0</td>\n",
       "      <td>3.0</td>\n",
       "    </tr>\n",
       "    <tr>\n",
       "      <th>...</th>\n",
       "      <td>...</td>\n",
       "      <td>...</td>\n",
       "      <td>...</td>\n",
       "      <td>...</td>\n",
       "      <td>...</td>\n",
       "      <td>...</td>\n",
       "      <td>...</td>\n",
       "      <td>...</td>\n",
       "      <td>...</td>\n",
       "      <td>...</td>\n",
       "    </tr>\n",
       "    <tr>\n",
       "      <th>17409</th>\n",
       "      <td>2017-01-03 19:00:00</td>\n",
       "      <td>1042</td>\n",
       "      <td>5.0</td>\n",
       "      <td>1.0</td>\n",
       "      <td>81.0</td>\n",
       "      <td>19.0</td>\n",
       "      <td>3.0</td>\n",
       "      <td>0.0</td>\n",
       "      <td>0.0</td>\n",
       "      <td>3.0</td>\n",
       "    </tr>\n",
       "    <tr>\n",
       "      <th>17410</th>\n",
       "      <td>2017-01-03 20:00:00</td>\n",
       "      <td>541</td>\n",
       "      <td>5.0</td>\n",
       "      <td>1.0</td>\n",
       "      <td>81.0</td>\n",
       "      <td>21.0</td>\n",
       "      <td>4.0</td>\n",
       "      <td>0.0</td>\n",
       "      <td>0.0</td>\n",
       "      <td>3.0</td>\n",
       "    </tr>\n",
       "    <tr>\n",
       "      <th>17411</th>\n",
       "      <td>2017-01-03 21:00:00</td>\n",
       "      <td>337</td>\n",
       "      <td>5.5</td>\n",
       "      <td>1.5</td>\n",
       "      <td>78.5</td>\n",
       "      <td>24.0</td>\n",
       "      <td>4.0</td>\n",
       "      <td>0.0</td>\n",
       "      <td>0.0</td>\n",
       "      <td>3.0</td>\n",
       "    </tr>\n",
       "    <tr>\n",
       "      <th>17412</th>\n",
       "      <td>2017-01-03 22:00:00</td>\n",
       "      <td>224</td>\n",
       "      <td>5.5</td>\n",
       "      <td>1.5</td>\n",
       "      <td>76.0</td>\n",
       "      <td>23.0</td>\n",
       "      <td>4.0</td>\n",
       "      <td>0.0</td>\n",
       "      <td>0.0</td>\n",
       "      <td>3.0</td>\n",
       "    </tr>\n",
       "    <tr>\n",
       "      <th>17413</th>\n",
       "      <td>2017-01-03 23:00:00</td>\n",
       "      <td>139</td>\n",
       "      <td>5.0</td>\n",
       "      <td>1.0</td>\n",
       "      <td>76.0</td>\n",
       "      <td>22.0</td>\n",
       "      <td>2.0</td>\n",
       "      <td>0.0</td>\n",
       "      <td>0.0</td>\n",
       "      <td>3.0</td>\n",
       "    </tr>\n",
       "  </tbody>\n",
       "</table>\n",
       "<p>17414 rows × 10 columns</p>\n",
       "</div>"
      ],
      "text/plain": [
       "                 timestamp   cnt   t1   t2    hum  wind_speed  weather_code  \\\n",
       "0      2015-01-04 00:00:00   182  3.0  2.0   93.0         6.0           3.0   \n",
       "1      2015-01-04 01:00:00   138  3.0  2.5   93.0         5.0           1.0   \n",
       "2      2015-01-04 02:00:00   134  2.5  2.5   96.5         0.0           1.0   \n",
       "3      2015-01-04 03:00:00    72  2.0  2.0  100.0         0.0           1.0   \n",
       "4      2015-01-04 04:00:00    47  2.0  0.0   93.0         6.5           1.0   \n",
       "...                    ...   ...  ...  ...    ...         ...           ...   \n",
       "17409  2017-01-03 19:00:00  1042  5.0  1.0   81.0        19.0           3.0   \n",
       "17410  2017-01-03 20:00:00   541  5.0  1.0   81.0        21.0           4.0   \n",
       "17411  2017-01-03 21:00:00   337  5.5  1.5   78.5        24.0           4.0   \n",
       "17412  2017-01-03 22:00:00   224  5.5  1.5   76.0        23.0           4.0   \n",
       "17413  2017-01-03 23:00:00   139  5.0  1.0   76.0        22.0           2.0   \n",
       "\n",
       "       is_holiday  is_weekend  season  \n",
       "0             0.0         1.0     3.0  \n",
       "1             0.0         1.0     3.0  \n",
       "2             0.0         1.0     3.0  \n",
       "3             0.0         1.0     3.0  \n",
       "4             0.0         1.0     3.0  \n",
       "...           ...         ...     ...  \n",
       "17409         0.0         0.0     3.0  \n",
       "17410         0.0         0.0     3.0  \n",
       "17411         0.0         0.0     3.0  \n",
       "17412         0.0         0.0     3.0  \n",
       "17413         0.0         0.0     3.0  \n",
       "\n",
       "[17414 rows x 10 columns]"
      ]
     },
     "execution_count": 7,
     "metadata": {},
     "output_type": "execute_result"
    }
   ],
   "source": [
    "# There is no duplicates or null values\n",
    "bikes"
   ]
  },
  {
   "cell_type": "code",
   "execution_count": 8,
   "id": "ab5dea95",
   "metadata": {
    "execution": {
     "iopub.execute_input": "2024-01-15T09:57:13.078341Z",
     "iopub.status.busy": "2024-01-15T09:57:13.077935Z",
     "iopub.status.idle": "2024-01-15T09:57:13.087461Z",
     "shell.execute_reply": "2024-01-15T09:57:13.086409Z"
    },
    "papermill": {
     "duration": 0.022239,
     "end_time": "2024-01-15T09:57:13.089822",
     "exception": false,
     "start_time": "2024-01-15T09:57:13.067583",
     "status": "completed"
    },
    "tags": []
   },
   "outputs": [
    {
     "data": {
      "text/plain": [
       "weather_code\n",
       "1.0     6150\n",
       "2.0     4034\n",
       "3.0     3551\n",
       "7.0     2141\n",
       "4.0     1464\n",
       "26.0      60\n",
       "10.0      14\n",
       "Name: count, dtype: int64"
      ]
     },
     "execution_count": 8,
     "metadata": {},
     "output_type": "execute_result"
    }
   ],
   "source": [
    "# count the unique values in the weather_code column\n",
    "bikes.weather_code.value_counts()"
   ]
  },
  {
   "cell_type": "code",
   "execution_count": 9,
   "id": "11b0cdae",
   "metadata": {
    "execution": {
     "iopub.execute_input": "2024-01-15T09:57:13.110238Z",
     "iopub.status.busy": "2024-01-15T09:57:13.109834Z",
     "iopub.status.idle": "2024-01-15T09:57:13.119025Z",
     "shell.execute_reply": "2024-01-15T09:57:13.117955Z"
    },
    "papermill": {
     "duration": 0.022137,
     "end_time": "2024-01-15T09:57:13.121441",
     "exception": false,
     "start_time": "2024-01-15T09:57:13.099304",
     "status": "completed"
    },
    "tags": []
   },
   "outputs": [
    {
     "data": {
      "text/plain": [
       "season\n",
       "0.0    4394\n",
       "1.0    4387\n",
       "3.0    4330\n",
       "2.0    4303\n",
       "Name: count, dtype: int64"
      ]
     },
     "execution_count": 9,
     "metadata": {},
     "output_type": "execute_result"
    }
   ],
   "source": [
    "# count the unique values in the season column\n",
    "bikes.season.value_counts()"
   ]
  },
  {
   "cell_type": "code",
   "execution_count": 10,
   "id": "cc149d7a",
   "metadata": {
    "execution": {
     "iopub.execute_input": "2024-01-15T09:57:13.143238Z",
     "iopub.status.busy": "2024-01-15T09:57:13.142840Z",
     "iopub.status.idle": "2024-01-15T09:57:13.149156Z",
     "shell.execute_reply": "2024-01-15T09:57:13.148044Z"
    },
    "papermill": {
     "duration": 0.019698,
     "end_time": "2024-01-15T09:57:13.151401",
     "exception": false,
     "start_time": "2024-01-15T09:57:13.131703",
     "status": "completed"
    },
    "tags": []
   },
   "outputs": [],
   "source": [
    "# changing the humidity values to percentage (i.e. a value between 0 and 1)\n",
    "bikes.hum = bikes.hum / 100"
   ]
  },
  {
   "cell_type": "markdown",
   "id": "07b51edb",
   "metadata": {
    "papermill": {
     "duration": 0.009008,
     "end_time": "2024-01-15T09:57:13.170386",
     "exception": false,
     "start_time": "2024-01-15T09:57:13.161378",
     "status": "completed"
    },
    "tags": []
   },
   "source": [
    "## Data Transformation"
   ]
  },
  {
   "cell_type": "code",
   "execution_count": 11,
   "id": "35d0abf0",
   "metadata": {
    "execution": {
     "iopub.execute_input": "2024-01-15T09:57:13.191370Z",
     "iopub.status.busy": "2024-01-15T09:57:13.190410Z",
     "iopub.status.idle": "2024-01-15T09:57:13.197778Z",
     "shell.execute_reply": "2024-01-15T09:57:13.196706Z"
    },
    "papermill": {
     "duration": 0.02021,
     "end_time": "2024-01-15T09:57:13.199898",
     "exception": false,
     "start_time": "2024-01-15T09:57:13.179688",
     "status": "completed"
    },
    "tags": []
   },
   "outputs": [],
   "source": [
    "# Renameing column names to make them more informative\n",
    "new_cols_dict ={\n",
    "    'timestamp':'time',\n",
    "    'cnt':'count_bike_share', \n",
    "    't1':'temp_C',\n",
    "    't2':'temp_feels_like_C',\n",
    "    'hum':'humidity',\n",
    "    'wind_speed':'wind_speed_kph',\n",
    "    'weather_code':'weather_category',\n",
    "    'is_holiday':'is_holiday',\n",
    "    'is_weekend':'is_weekend',\n",
    "    'season':'season'\n",
    "}\n",
    "\n",
    "# Renaming the columns to the specified column names\n",
    "bikes.rename(new_cols_dict, axis=1, inplace=True)"
   ]
  },
  {
   "cell_type": "code",
   "execution_count": 12,
   "id": "5ebafd41",
   "metadata": {
    "execution": {
     "iopub.execute_input": "2024-01-15T09:57:13.220494Z",
     "iopub.status.busy": "2024-01-15T09:57:13.220062Z",
     "iopub.status.idle": "2024-01-15T09:57:13.233309Z",
     "shell.execute_reply": "2024-01-15T09:57:13.232180Z"
    },
    "papermill": {
     "duration": 0.026723,
     "end_time": "2024-01-15T09:57:13.236022",
     "exception": false,
     "start_time": "2024-01-15T09:57:13.209299",
     "status": "completed"
    },
    "tags": []
   },
   "outputs": [],
   "source": [
    "# creating a season dictionary so that we can map the integers 0-3 to the actual written values\n",
    "season_dict = {\n",
    "    0.0:'spring',\n",
    "    1.0:'summer',\n",
    "    2.0:'autumn',\n",
    "    3.0:'winter'\n",
    "}\n",
    "\n",
    "# creating a weather dictionary so that we can map the integers to the actual written values\n",
    "weather_category_dict = {\n",
    "    1.0:'Clear',\n",
    "    2.0:'Scattered clouds',\n",
    "    3.0:'Broken clouds',\n",
    "    4.0:'Cloudy',\n",
    "    7.0:'Rain',\n",
    "    10.0:'Rain with thunderstorm',\n",
    "    26.0:'Snowfall'\n",
    "}\n",
    "\n",
    "\n",
    "# mapping the values 0-3 to the seasons\n",
    "bikes.season = bikes.season.map(season_dict)\n",
    "\n",
    "# mapping the values to weather category\n",
    "bikes.weather_category = bikes.weather_category.map(weather_category_dict)"
   ]
  },
  {
   "cell_type": "code",
   "execution_count": 13,
   "id": "6d84323d",
   "metadata": {
    "execution": {
     "iopub.execute_input": "2024-01-15T09:57:13.256931Z",
     "iopub.status.busy": "2024-01-15T09:57:13.256134Z",
     "iopub.status.idle": "2024-01-15T09:57:13.276913Z",
     "shell.execute_reply": "2024-01-15T09:57:13.276062Z"
    },
    "papermill": {
     "duration": 0.033663,
     "end_time": "2024-01-15T09:57:13.279067",
     "exception": false,
     "start_time": "2024-01-15T09:57:13.245404",
     "status": "completed"
    },
    "tags": []
   },
   "outputs": [
    {
     "data": {
      "text/html": [
       "<div>\n",
       "<style scoped>\n",
       "    .dataframe tbody tr th:only-of-type {\n",
       "        vertical-align: middle;\n",
       "    }\n",
       "\n",
       "    .dataframe tbody tr th {\n",
       "        vertical-align: top;\n",
       "    }\n",
       "\n",
       "    .dataframe thead th {\n",
       "        text-align: right;\n",
       "    }\n",
       "</style>\n",
       "<table border=\"1\" class=\"dataframe\">\n",
       "  <thead>\n",
       "    <tr style=\"text-align: right;\">\n",
       "      <th></th>\n",
       "      <th>time</th>\n",
       "      <th>count_bike_share</th>\n",
       "      <th>temp_C</th>\n",
       "      <th>temp_feels_like_C</th>\n",
       "      <th>humidity</th>\n",
       "      <th>wind_speed_kph</th>\n",
       "      <th>weather_category</th>\n",
       "      <th>is_holiday</th>\n",
       "      <th>is_weekend</th>\n",
       "      <th>season</th>\n",
       "    </tr>\n",
       "  </thead>\n",
       "  <tbody>\n",
       "    <tr>\n",
       "      <th>0</th>\n",
       "      <td>2015-01-04 00:00:00</td>\n",
       "      <td>182</td>\n",
       "      <td>3.0</td>\n",
       "      <td>2.0</td>\n",
       "      <td>0.930</td>\n",
       "      <td>6.0</td>\n",
       "      <td>Broken clouds</td>\n",
       "      <td>0.0</td>\n",
       "      <td>1.0</td>\n",
       "      <td>winter</td>\n",
       "    </tr>\n",
       "    <tr>\n",
       "      <th>1</th>\n",
       "      <td>2015-01-04 01:00:00</td>\n",
       "      <td>138</td>\n",
       "      <td>3.0</td>\n",
       "      <td>2.5</td>\n",
       "      <td>0.930</td>\n",
       "      <td>5.0</td>\n",
       "      <td>Clear</td>\n",
       "      <td>0.0</td>\n",
       "      <td>1.0</td>\n",
       "      <td>winter</td>\n",
       "    </tr>\n",
       "    <tr>\n",
       "      <th>2</th>\n",
       "      <td>2015-01-04 02:00:00</td>\n",
       "      <td>134</td>\n",
       "      <td>2.5</td>\n",
       "      <td>2.5</td>\n",
       "      <td>0.965</td>\n",
       "      <td>0.0</td>\n",
       "      <td>Clear</td>\n",
       "      <td>0.0</td>\n",
       "      <td>1.0</td>\n",
       "      <td>winter</td>\n",
       "    </tr>\n",
       "    <tr>\n",
       "      <th>3</th>\n",
       "      <td>2015-01-04 03:00:00</td>\n",
       "      <td>72</td>\n",
       "      <td>2.0</td>\n",
       "      <td>2.0</td>\n",
       "      <td>1.000</td>\n",
       "      <td>0.0</td>\n",
       "      <td>Clear</td>\n",
       "      <td>0.0</td>\n",
       "      <td>1.0</td>\n",
       "      <td>winter</td>\n",
       "    </tr>\n",
       "    <tr>\n",
       "      <th>4</th>\n",
       "      <td>2015-01-04 04:00:00</td>\n",
       "      <td>47</td>\n",
       "      <td>2.0</td>\n",
       "      <td>0.0</td>\n",
       "      <td>0.930</td>\n",
       "      <td>6.5</td>\n",
       "      <td>Clear</td>\n",
       "      <td>0.0</td>\n",
       "      <td>1.0</td>\n",
       "      <td>winter</td>\n",
       "    </tr>\n",
       "  </tbody>\n",
       "</table>\n",
       "</div>"
      ],
      "text/plain": [
       "                  time  count_bike_share  temp_C  temp_feels_like_C  humidity  \\\n",
       "0  2015-01-04 00:00:00               182     3.0                2.0     0.930   \n",
       "1  2015-01-04 01:00:00               138     3.0                2.5     0.930   \n",
       "2  2015-01-04 02:00:00               134     2.5                2.5     0.965   \n",
       "3  2015-01-04 03:00:00                72     2.0                2.0     1.000   \n",
       "4  2015-01-04 04:00:00                47     2.0                0.0     0.930   \n",
       "\n",
       "   wind_speed_kph weather_category  is_holiday  is_weekend  season  \n",
       "0             6.0    Broken clouds         0.0         1.0  winter  \n",
       "1             5.0            Clear         0.0         1.0  winter  \n",
       "2             0.0            Clear         0.0         1.0  winter  \n",
       "3             0.0            Clear         0.0         1.0  winter  \n",
       "4             6.5            Clear         0.0         1.0  winter  "
      ]
     },
     "execution_count": 13,
     "metadata": {},
     "output_type": "execute_result"
    }
   ],
   "source": [
    "# checking our dataframe to see if the mappings have worked\n",
    "bikes.head()"
   ]
  },
  {
   "cell_type": "markdown",
   "id": "8351017d",
   "metadata": {
    "papermill": {
     "duration": 0.009765,
     "end_time": "2024-01-15T09:57:13.299106",
     "exception": false,
     "start_time": "2024-01-15T09:57:13.289341",
     "status": "completed"
    },
    "tags": []
   },
   "source": [
    "## Data Export"
   ]
  },
  {
   "cell_type": "code",
   "execution_count": 14,
   "id": "0864839a",
   "metadata": {
    "execution": {
     "iopub.execute_input": "2024-01-15T09:57:13.320851Z",
     "iopub.status.busy": "2024-01-15T09:57:13.320418Z",
     "iopub.status.idle": "2024-01-15T09:57:21.301535Z",
     "shell.execute_reply": "2024-01-15T09:57:21.300374Z"
    },
    "papermill": {
     "duration": 7.995783,
     "end_time": "2024-01-15T09:57:21.304873",
     "exception": false,
     "start_time": "2024-01-15T09:57:13.309090",
     "status": "completed"
    },
    "tags": []
   },
   "outputs": [],
   "source": [
    "# writing the final dataframe to an excel file that we will use in our Tableau visualisations. The file will be the 'london_bikes_modified.xlsx' file and the sheet name is 'bike_data'\n",
    "bikes.to_excel('london_bikes_modified.xlsx', sheet_name='bike_data')"
   ]
  },
  {
   "cell_type": "markdown",
   "id": "ad75aac9",
   "metadata": {
    "papermill": {
     "duration": 0.009632,
     "end_time": "2024-01-15T09:57:21.324975",
     "exception": false,
     "start_time": "2024-01-15T09:57:21.315343",
     "status": "completed"
    },
    "tags": []
   },
   "source": [
    "# Creating a dashboard using Tableau"
   ]
  },
  {
   "cell_type": "code",
   "execution_count": 15,
   "id": "5fd08db3",
   "metadata": {
    "execution": {
     "iopub.execute_input": "2024-01-15T09:57:21.347577Z",
     "iopub.status.busy": "2024-01-15T09:57:21.346678Z",
     "iopub.status.idle": "2024-01-15T09:57:21.356447Z",
     "shell.execute_reply": "2024-01-15T09:57:21.355275Z"
    },
    "papermill": {
     "duration": 0.023657,
     "end_time": "2024-01-15T09:57:21.358813",
     "exception": false,
     "start_time": "2024-01-15T09:57:21.335156",
     "status": "completed"
    },
    "tags": []
   },
   "outputs": [
    {
     "data": {
      "text/html": [
       "<div class='tableauPlaceholder' id='viz1705308157480' style='position: relative'><noscript><a href='#'><img alt='London Bike Rides ' src='https:&#47;&#47;public.tableau.com&#47;static&#47;images&#47;Lo&#47;LondonBikes_17052555645380&#47;LondonBikeRides&#47;1_rss.png' style='border: none' /></a></noscript><object class='tableauViz'  style='display:none;'><param name='host_url' value='https%3A%2F%2Fpublic.tableau.com%2F' /> <param name='embed_code_version' value='3' /> <param name='site_root' value='' /><param name='name' value='LondonBikes_17052555645380&#47;LondonBikeRides' /><param name='tabs' value='no' /><param name='toolbar' value='yes' /><param name='static_image' value='https:&#47;&#47;public.tableau.com&#47;static&#47;images&#47;Lo&#47;LondonBikes_17052555645380&#47;LondonBikeRides&#47;1.png' /> <param name='animate_transition' value='yes' /><param name='display_static_image' value='yes' /><param name='display_spinner' value='yes' /><param name='display_overlay' value='yes' /><param name='display_count' value='yes' /><param name='language' value='en-US' /></object></div>                <script type='text/javascript'>                    var divElement = document.getElementById('viz1705308157480');                    var vizElement = divElement.getElementsByTagName('object')[0];                    if ( divElement.offsetWidth > 800 ) { vizElement.style.width='100%';vizElement.style.height=(divElement.offsetWidth*0.75)+'px';} else if ( divElement.offsetWidth > 500 ) { vizElement.style.width='100%';vizElement.style.height=(divElement.offsetWidth*0.75)+'px';} else { vizElement.style.width='100%';vizElement.style.height='1177px';}                     var scriptElement = document.createElement('script');                    scriptElement.src = 'https://public.tableau.com/javascripts/api/viz_v1.js';                    vizElement.parentNode.insertBefore(scriptElement, vizElement);                </script>\n"
      ],
      "text/plain": [
       "<IPython.core.display.HTML object>"
      ]
     },
     "metadata": {},
     "output_type": "display_data"
    }
   ],
   "source": [
    "%%HTML\n",
    "<div class='tableauPlaceholder' id='viz1705308157480' style='position: relative'><noscript><a href='#'><img alt='London Bike Rides ' src='https:&#47;&#47;public.tableau.com&#47;static&#47;images&#47;Lo&#47;LondonBikes_17052555645380&#47;LondonBikeRides&#47;1_rss.png' style='border: none' /></a></noscript><object class='tableauViz'  style='display:none;'><param name='host_url' value='https%3A%2F%2Fpublic.tableau.com%2F' /> <param name='embed_code_version' value='3' /> <param name='site_root' value='' /><param name='name' value='LondonBikes_17052555645380&#47;LondonBikeRides' /><param name='tabs' value='no' /><param name='toolbar' value='yes' /><param name='static_image' value='https:&#47;&#47;public.tableau.com&#47;static&#47;images&#47;Lo&#47;LondonBikes_17052555645380&#47;LondonBikeRides&#47;1.png' /> <param name='animate_transition' value='yes' /><param name='display_static_image' value='yes' /><param name='display_spinner' value='yes' /><param name='display_overlay' value='yes' /><param name='display_count' value='yes' /><param name='language' value='en-US' /></object></div>                <script type='text/javascript'>                    var divElement = document.getElementById('viz1705308157480');                    var vizElement = divElement.getElementsByTagName('object')[0];                    if ( divElement.offsetWidth > 800 ) { vizElement.style.width='100%';vizElement.style.height=(divElement.offsetWidth*0.75)+'px';} else if ( divElement.offsetWidth > 500 ) { vizElement.style.width='100%';vizElement.style.height=(divElement.offsetWidth*0.75)+'px';} else { vizElement.style.width='100%';vizElement.style.height='1177px';}                     var scriptElement = document.createElement('script');                    scriptElement.src = 'https://public.tableau.com/javascripts/api/viz_v1.js';                    vizElement.parentNode.insertBefore(scriptElement, vizElement);                </script>"
   ]
  },
  {
   "cell_type": "markdown",
   "id": "12cd7995",
   "metadata": {
    "papermill": {
     "duration": 0.009754,
     "end_time": "2024-01-15T09:57:21.378937",
     "exception": false,
     "start_time": "2024-01-15T09:57:21.369183",
     "status": "completed"
    },
    "tags": []
   },
   "source": [
    "# Conclusion:\n",
    "The analysis sheds light on the dynamic nature of bike-sharing in London, influenced by an array of factors like weather, time, and holidays. These insights underscore the potential of data-driven approaches in urban mobility planning. Future work could include predictive modeling to forecast bike share demands, further analysis of external factors like public events, and a comparative study across different cities or time frames to generalize the findings."
   ]
  }
 ],
 "metadata": {
  "kaggle": {
   "accelerator": "none",
   "dataSources": [
    {
     "datasetId": 376751,
     "sourceId": 731448,
     "sourceType": "datasetVersion"
    }
   ],
   "dockerImageVersionId": 30635,
   "isGpuEnabled": false,
   "isInternetEnabled": true,
   "language": "python",
   "sourceType": "notebook"
  },
  "kernelspec": {
   "display_name": "Python 3",
   "language": "python",
   "name": "python3"
  },
  "language_info": {
   "codemirror_mode": {
    "name": "ipython",
    "version": 3
   },
   "file_extension": ".py",
   "mimetype": "text/x-python",
   "name": "python",
   "nbconvert_exporter": "python",
   "pygments_lexer": "ipython3",
   "version": "3.10.12"
  },
  "papermill": {
   "default_parameters": {},
   "duration": 13.299881,
   "end_time": "2024-01-15T09:57:22.010815",
   "environment_variables": {},
   "exception": null,
   "input_path": "__notebook__.ipynb",
   "output_path": "__notebook__.ipynb",
   "parameters": {},
   "start_time": "2024-01-15T09:57:08.710934",
   "version": "2.4.0"
  }
 },
 "nbformat": 4,
 "nbformat_minor": 5
}
